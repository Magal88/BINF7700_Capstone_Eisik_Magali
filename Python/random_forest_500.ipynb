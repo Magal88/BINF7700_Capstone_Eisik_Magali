{
 "cells": [
  {
   "cell_type": "markdown",
   "id": "bcc0ced2-46bd-4125-ba29-55235f116d80",
   "metadata": {},
   "source": [
    "A Random Forest regression model will be trained to predict epigenetic age using DNA methylation beta values. "
   ]
  },
  {
   "cell_type": "code",
   "execution_count": null,
   "id": "875a04ce-00ba-4faa-aaef-1039ee2036b8",
   "metadata": {},
   "outputs": [],
   "source": [
    "#Load require packages\n",
    "import pandas as pd\n",
    "import numpy as np\n",
    "import shap\n",
    "import matplotlib.pyplot as plt\n",
    "from sklearn.metrics import mean_absolute_error, mean_squared_error\n",
    "from sklearn.preprocessing import StandardScaler\n",
    "from sklearn.ensemble import RandomForestRegressor\n",
    "from sklearn.model_selection import train_test_split"
   ]
  },
  {
   "cell_type": "code",
   "execution_count": null,
   "id": "467aff36-a9ed-4e67-aea6-3502c6f1215e",
   "metadata": {},
   "outputs": [],
   "source": [
    "# Load data set\n",
    "GSE55763_beta = pd.read_csv(\"subset_500_Beta.csv\")"
   ]
  },
  {
   "cell_type": "code",
   "execution_count": null,
   "id": "caf510a4-bb7f-46f8-bd5b-2e0df6b9a29c",
   "metadata": {},
   "outputs": [],
   "source": [
    "#Display the first rows of the data set\n",
    "GSE55763_beta.head(3)"
   ]
  },
  {
   "cell_type": "code",
   "execution_count": null,
   "id": "adb626cd-1e8c-4509-a4e3-55bf6f3b7c3c",
   "metadata": {},
   "outputs": [],
   "source": [
    "print(GSE55763_beta.shape) #dimensions of the data set"
   ]
  },
  {
   "cell_type": "markdown",
   "id": "70129a2f-0864-4c71-afa9-e656a43053ac",
   "metadata": {},
   "source": [
    "The data set contains 2664 rows and 503 columns "
   ]
  },
  {
   "cell_type": "code",
   "execution_count": null,
   "id": "e7d688a4-05e6-4465-a13e-5c1ec7f21c4a",
   "metadata": {},
   "outputs": [],
   "source": [
    "# Select CpG columns\n",
    "cpg_cols = [col for col in GSE55763_beta.columns if col.startswith(\"cg\")]\n",
    "\n",
    "# Define predictors and outcome\n",
    "X = GSE55763_beta[cpg_cols + [\"gender\"]].copy()\n",
    "y = GSE55763_beta[\"age\"]\n",
    "\n",
    "# Encode gender numerically\n",
    "X[\"gender\"] = X[\"gender\"].map({\"M\": 1, \"F\": 0})"
   ]
  },
  {
   "cell_type": "code",
   "execution_count": null,
   "id": "4160c53a-d4cc-43d1-be2f-a6a6273f7296",
   "metadata": {},
   "outputs": [],
   "source": [
    "# Split into training and testing sets (80/20)\n",
    "X_train, X_test, y_train, y_test = train_test_split(\n",
    "    X, y, test_size=0.2, random_state=500\n",
    ")\n",
    "\n",
    "# Scale features\n",
    "scaler = StandardScaler()\n",
    "X_train_scaled = pd.DataFrame(scaler.fit_transform(X_train), columns=X_train.columns)\n",
    "X_test_scaled = pd.DataFrame(scaler.transform(X_test), columns=X_test.columns)"
   ]
  },
  {
   "cell_type": "markdown",
   "id": "3e12a696-ca35-4e17-9486-7c34006bc998",
   "metadata": {},
   "source": [
    "Train Random Forest model"
   ]
  },
  {
   "cell_type": "code",
   "execution_count": null,
   "id": "fe9b1897-f1e0-4d17-854f-f0018a03468b",
   "metadata": {},
   "outputs": [],
   "source": [
    "rf = RandomForestRegressor(n_estimators=300, random_state=500)\n",
    "rf.fit(X_train_scaled, y_train)"
   ]
  },
  {
   "cell_type": "markdown",
   "id": "348edf9a-0ba3-4b02-94e5-4db519600356",
   "metadata": {},
   "source": [
    "Metrics (R2, MAE, RMSE)"
   ]
  },
  {
   "cell_type": "code",
   "execution_count": null,
   "id": "67baf4c2-ad36-4e1d-86b3-f15725bcab40",
   "metadata": {},
   "outputs": [],
   "source": [
    "# Predict on test set\n",
    "y_pred = rf.predict(X_test_scaled)\n",
    "\n",
    "# Metrics\n",
    "r2 = rf.score(X_test_scaled, y_test)\n",
    "mae = mean_absolute_error(y_test, y_pred)\n",
    "rmse = np.sqrt(mean_squared_error(y_test, y_pred))\n",
    "\n",
    "print(f\"R²: {r2:.2f}\")\n",
    "print(f\"MAE: {mae:.2f}\")\n",
    "print(f\"RMSE: {rmse:.2f}\")"
   ]
  },
  {
   "cell_type": "markdown",
   "id": "f1e2f6e2-b400-470e-b746-b7db7f4854fd",
   "metadata": {},
   "source": [
    "R² of 0.59 indicates that approximately 59% of the variance in chronological age is explained by the model. MAE of 5.07 years shows that, on average, the predicted age deviates from the actual age by about 5 years. RMSE of 6.25 years reflects the overall magnitude of prediction errors, giving slightly more weight to larger deviations."
   ]
  },
  {
   "cell_type": "markdown",
   "id": "cbd469a3-bef3-4275-bfeb-1f3d10062719",
   "metadata": {},
   "source": [
    "In this part, SHAP values are computed to interpret the Random Forest model, showing how much each feature (CpG or covariate) contributes to increasing or decreasing the predicted age for each sample."
   ]
  },
  {
   "cell_type": "markdown",
   "id": "df4968ab-7c51-4f3e-b627-f8389d9b1feb",
   "metadata": {},
   "source": [
    "Summary plot for the test set: tvisualizes the impact of each CpG on the model’s predictions"
   ]
  },
  {
   "cell_type": "code",
   "execution_count": null,
   "id": "2f2ac0f3-ca30-41e5-b40e-5b23881344fd",
   "metadata": {},
   "outputs": [],
   "source": [
    "# Compute SHAP values on a subset of the test set\n",
    "explainer = shap.TreeExplainer(rf)\n",
    "X_shap = X_test_scaled.sample(100, random_state=500)\n",
    "shap_values = explainer.shap_values(X_shap)\n",
    "\n",
    "# SHAP summary bar plot\n",
    "plt.figure(figsize=(10, 6))\n",
    "shap.summary_plot(shap_values, X_shap, plot_type=\"bar\", color=\"coral\", show=False)\n",
    "plt.title(\"SHAP Summary Plot (Subset of Test Set)\")\n",
    "plt.tight_layout()\n",
    "plt.savefig(\"shap_summary_test_subset.png\", dpi=300)\n",
    "plt.show()"
   ]
  },
  {
   "cell_type": "markdown",
   "id": "7acc42e0-b85b-4af9-a316-9d2978311055",
   "metadata": {},
   "source": [
    "Summary plot (bar plot): shows the average contribution of each CpG to the Random Forest predictions, ranking them by importance using SHAP values."
   ]
  },
  {
   "cell_type": "code",
   "execution_count": null,
   "id": "17531ea5-1ff4-4ef4-88ce-1ade68cbbddd",
   "metadata": {},
   "outputs": [],
   "source": [
    "# Compute SHAP values on the full test set\n",
    "explainer = shap.TreeExplainer(rf)\n",
    "shap_values = explainer.shap_values(X_test_scaled)\n",
    "\n",
    "# SHAP beeswarm summary plot (default style)\n",
    "plt.figure(figsize=(10, 6))\n",
    "shap.summary_plot(shap_values, X_test_scaled, show=False)\n",
    "plt.title(\"SHAP Summary Plot (Test Set)\")\n",
    "plt.tight_layout()\n",
    "plt.savefig(\"shap_summary_test.png\", dpi=300)\n",
    "plt.show()\n"
   ]
  },
  {
   "cell_type": "code",
   "execution_count": null,
   "id": "988f42bc-34f5-42a4-8b66-19069abc299e",
   "metadata": {},
   "outputs": [],
   "source": []
  }
 ],
 "metadata": {
  "kernelspec": {
   "display_name": "Python 3 (ipykernel)",
   "language": "python",
   "name": "python3"
  },
  "language_info": {
   "codemirror_mode": {
    "name": "ipython",
    "version": 3
   },
   "file_extension": ".py",
   "mimetype": "text/x-python",
   "name": "python",
   "nbconvert_exporter": "python",
   "pygments_lexer": "ipython3",
   "version": "3.12.3"
  }
 },
 "nbformat": 4,
 "nbformat_minor": 5
}
