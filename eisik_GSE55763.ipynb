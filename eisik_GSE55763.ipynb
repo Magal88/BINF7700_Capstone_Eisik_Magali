{
 "cells": [
  {
   "cell_type": "markdown",
   "id": "5efd924a-91f0-4d9d-aecc-f552465fb890",
   "metadata": {},
   "source": [
    "In this part, the data from GSE55763 will be imported, quality-checked, and structured to facilitate downstream analysis."
   ]
  },
  {
   "cell_type": "code",
   "execution_count": 2,
   "id": "c6758864-54ce-4596-80a0-b0dcbd2adb1a",
   "metadata": {},
   "outputs": [],
   "source": [
    "import GEOparse\n",
    "import pandas as pd\n",
    "import numpy as np\n",
    "import matplotlib.pyplot as plt\n",
    "import seaborn as sns\n",
    "import warnings"
   ]
  },
  {
   "cell_type": "code",
   "execution_count": 56,
   "id": "a6c0aa6c-c0e6-4a44-b3dc-5ca5932e30e8",
   "metadata": {},
   "outputs": [],
   "source": [
    "warnings.simplefilter(action='ignore', category=pd.errors.DtypeWarning)"
   ]
  },
  {
   "cell_type": "code",
   "execution_count": 64,
   "id": "009f5a65-bfc3-49ff-b26a-15702a6be152",
   "metadata": {},
   "outputs": [
    {
     "name": "stderr",
     "output_type": "stream",
     "text": [
      "C:\\Users\\Owner\\anaconda3\\Lib\\site-packages\\GEOparse\\GEOparse.py:401: DtypeWarning: Columns (11,14,15,36) have mixed types. Specify dtype option on import or set low_memory=False.\n",
      "  return read_csv(StringIO(data), index_col=None, sep=\"\\t\")\n"
     ]
    }
   ],
   "source": [
    "gse = GEOparse.get_GEO(geo=\"GSE55763\", destdir=\"./data\", silent=True, how=\"full\")"
   ]
  },
  {
   "cell_type": "code",
   "execution_count": 65,
   "id": "45507a18-f9e9-48e0-8f04-bfdd83254de3",
   "metadata": {},
   "outputs": [
    {
     "name": "stdout",
     "output_type": "stream",
     "text": [
      "['GSM1343050', 'GSM1343051', 'GSM1343052']\n"
     ]
    }
   ],
   "source": [
    "print(list(gse.gsms.keys())[:3])"
   ]
  },
  {
   "cell_type": "markdown",
   "id": "da4cb499-5b65-44e8-9c7c-36d26a09ca0b",
   "metadata": {},
   "source": [
    "In this case, GSM1343050, GSM1343051, GSM1343052 are sample IDs."
   ]
  },
  {
   "cell_type": "code",
   "execution_count": 67,
   "id": "4eff0a42-5548-4fec-95a1-734973d5d3b1",
   "metadata": {},
   "outputs": [
    {
     "name": "stdout",
     "output_type": "stream",
     "text": [
      "The number of samples is: 2711\n"
     ]
    }
   ],
   "source": [
    "print(\"The number of samples is:\", len(gse.gsms))"
   ]
  },
  {
   "cell_type": "markdown",
   "id": "32b2a640-c12f-4df2-b888-334ba94fc02a",
   "metadata": {},
   "source": [
    "Explore the metadata in GSE55763"
   ]
  },
  {
   "cell_type": "code",
   "execution_count": 69,
   "id": "495ee62a-0bbd-4f8c-a036-4f56e37c40f3",
   "metadata": {},
   "outputs": [],
   "source": [
    "metadata = {}\n",
    "for gsm_name, gsm in gse.gsms.items():\n",
    "    for key, value in gsm.metadata.items():\n",
    "        if key == 'characteristics_ch1':\n",
    "            tmpVal = 0\n",
    "            for tmp in value:\n",
    "                splitUp = [i.strip() for i in tmp.split(':')]\n",
    "                if len(splitUp) == 2:\n",
    "                    if not splitUp[0] in metadata:\n",
    "                        metadata[splitUp[0]] = {}\n",
    "                    metadata[splitUp[0]][gsm_name] = splitUp[1]\n"
   ]
  },
  {
   "cell_type": "code",
   "execution_count": 82,
   "id": "96fcb921-4391-464b-8f92-2dd5d05a4a4f",
   "metadata": {},
   "outputs": [],
   "source": [
    "df_metadata = pd.DataFrame(metadata)"
   ]
  },
  {
   "cell_type": "code",
   "execution_count": 84,
   "id": "aaa97ab2-a1b1-4b37-8226-9e1802b6c281",
   "metadata": {},
   "outputs": [],
   "source": [
    "df_metadata = df_metadata.transpose() ## Transpose the DataFrame so that samples are rows and metadata fields are columns"
   ]
  },
  {
   "cell_type": "code",
   "execution_count": 86,
   "id": "5849eedd-533e-4358-9eb5-309bcc96a2cd",
   "metadata": {
    "scrolled": true
   },
   "outputs": [
    {
     "name": "stdout",
     "output_type": "stream",
     "text": [
      "                                            GSM1343050  \\\n",
      "tissue                                peripheral blood   \n",
      "dataset  population study; technical replication study   \n",
      "gender                                               M   \n",
      "\n",
      "                                            GSM1343051  \\\n",
      "tissue                                peripheral blood   \n",
      "dataset  population study; technical replication study   \n",
      "gender                                               M   \n",
      "\n",
      "                                            GSM1343052  \\\n",
      "tissue                                peripheral blood   \n",
      "dataset  population study; technical replication study   \n",
      "gender                                               M   \n",
      "\n",
      "                          GSM1343053                   GSM1343054  \\\n",
      "tissue              peripheral blood             peripheral blood   \n",
      "dataset  technical replication study  technical replication study   \n",
      "gender                             M                            M   \n",
      "\n",
      "                                            GSM1343055  \\\n",
      "tissue                                peripheral blood   \n",
      "dataset  population study; technical replication study   \n",
      "gender                                               M   \n",
      "\n",
      "                                            GSM1343056  \\\n",
      "tissue                                peripheral blood   \n",
      "dataset  population study; technical replication study   \n",
      "gender                                               M   \n",
      "\n",
      "                                            GSM1343057  \\\n",
      "tissue                                peripheral blood   \n",
      "dataset  population study; technical replication study   \n",
      "gender                                               M   \n",
      "\n",
      "                                            GSM1343058  \\\n",
      "tissue                                peripheral blood   \n",
      "dataset  population study; technical replication study   \n",
      "gender                                               M   \n",
      "\n",
      "                                            GSM1343059  ...        GSM1345751  \\\n",
      "tissue                                peripheral blood  ...  peripheral blood   \n",
      "dataset  population study; technical replication study  ...  population study   \n",
      "gender                                               M  ...                 M   \n",
      "\n",
      "               GSM1345752        GSM1345753        GSM1345754  \\\n",
      "tissue   peripheral blood  peripheral blood  peripheral blood   \n",
      "dataset  population study  population study  population study   \n",
      "gender                  M                 M                 F   \n",
      "\n",
      "               GSM1345755        GSM1345756        GSM1345757  \\\n",
      "tissue   peripheral blood  peripheral blood  peripheral blood   \n",
      "dataset  population study  population study  population study   \n",
      "gender                  M                 M                 M   \n",
      "\n",
      "               GSM1345758        GSM1345759        GSM1345760  \n",
      "tissue   peripheral blood  peripheral blood  peripheral blood  \n",
      "dataset  population study  population study  population study  \n",
      "gender                  F                 M                 F  \n",
      "\n",
      "[3 rows x 2711 columns]\n"
     ]
    }
   ],
   "source": [
    "print(df_metadata.head(3))   # display the first 3 rows"
   ]
  },
  {
   "cell_type": "code",
   "execution_count": 88,
   "id": "cb3fa475-881e-4f47-aa19-10098f23c4f7",
   "metadata": {},
   "outputs": [
    {
     "name": "stdout",
     "output_type": "stream",
     "text": [
      "Index(['GSM1343050', 'GSM1343051', 'GSM1343052', 'GSM1343053', 'GSM1343054',\n",
      "       'GSM1343055', 'GSM1343056', 'GSM1343057', 'GSM1343058', 'GSM1343059',\n",
      "       ...\n",
      "       'GSM1345751', 'GSM1345752', 'GSM1345753', 'GSM1345754', 'GSM1345755',\n",
      "       'GSM1345756', 'GSM1345757', 'GSM1345758', 'GSM1345759', 'GSM1345760'],\n",
      "      dtype='object', length=2711)\n"
     ]
    }
   ],
   "source": [
    "print(df_metadata.columns)"
   ]
  },
  {
   "cell_type": "code",
   "execution_count": 94,
   "id": "9f68b3da-7836-476e-8ae8-ed254e73201c",
   "metadata": {},
   "outputs": [
    {
     "name": "stdout",
     "output_type": "stream",
     "text": [
      "gsm         gsm            tissue  \\\n",
      "0    GSM1343050  peripheral blood   \n",
      "1    GSM1343051  peripheral blood   \n",
      "2    GSM1343052  peripheral blood   \n",
      "3    GSM1343053  peripheral blood   \n",
      "4    GSM1343054  peripheral blood   \n",
      "\n",
      "gsm                                        dataset sex   age  \n",
      "0    population study; technical replication study   M  57.9  \n",
      "1    population study; technical replication study   M  42.0  \n",
      "2    population study; technical replication study   M  47.4  \n",
      "3                      technical replication study   M  49.3  \n",
      "4                      technical replication study   M  52.5  \n",
      "gsm\n",
      "gsm         object\n",
      "tissue      object\n",
      "dataset     object\n",
      "sex         object\n",
      "age        float64\n",
      "dtype: object\n"
     ]
    }
   ],
   "source": [
    "# Transpose so samples become rows\n",
    "df_metadata = df_metadata.set_index(\"gsm\").transpose()\n",
    "\n",
    "# Reset index so GSM IDs are a column\n",
    "df_metadata.reset_index(inplace=True)\n",
    "df_metadata.rename(columns={\"index\": \"gsm\"}, inplace=True)\n",
    "\n",
    "# Rename columns to something clean\n",
    "df_metadata.rename(columns={\n",
    "    \"gender\": \"sex\",\n",
    "    \"tissue\": \"tissue\",\n",
    "    \"age\": \"age\"\n",
    "}, inplace=True)\n",
    "\n",
    "# Convert age to numeric\n",
    "df_metadata[\"age\"] = pd.to_numeric(df_metadata[\"age\"], errors=\"coerce\")\n",
    "\n",
    "print(df_metadata.head())\n",
    "print(df_metadata.dtypes)\n"
   ]
  },
  {
   "cell_type": "markdown",
   "id": "fbd151b9-69a9-48c1-b279-c351dcecc927",
   "metadata": {},
   "source": [
    "Filter human samples with complete metadata"
   ]
  },
  {
   "cell_type": "code",
   "execution_count": 157,
   "id": "b42b4c5a-d4a8-4e5d-9fc8-6a027f1c3dbf",
   "metadata": {
    "scrolled": true
   },
   "outputs": [
    {
     "name": "stdout",
     "output_type": "stream",
     "text": [
      "Number of human samples after filtering: 2664\n"
     ]
    }
   ],
   "source": [
    "# Keep only samples with age and sex\n",
    "df_filtered = df_metadata.dropna(subset=['age', 'sex'])\n",
    "\n",
    "# Filter human samples based on tissue keywords\n",
    "human_keywords = ['human', 'Homo sapiens', 'blood', 'peripheral blood', 'PBMC', 'whole blood']\n",
    "mask_human = df_filtered['tissue'].str.contains('|'.join(human_keywords), case=False, na=False)\n",
    "df_filtered = df_filtered[mask_human]\n",
    "\n",
    "# Keep population study samples; include technical replicates only if part of population study\n",
    "mask_population = ~df_filtered['dataset'].str.contains('technical replication', case=False, na=False) | df_filtered['dataset'].str.contains('population study', case=False, na=False)\n",
    "df_filtered = df_filtered[mask_population]\n",
    "\n",
    "# Reset index\n",
    "df_filtered = df_filtered.reset_index(drop=True)\n",
    "\n",
    "print(f\"Number of human samples after filtering: {df_filtered.shape[0]}\")\n"
   ]
  },
  {
   "cell_type": "code",
   "execution_count": 155,
   "id": "0773ccc5-5a30-4704-9e8a-b702d0465ba6",
   "metadata": {},
   "outputs": [
    {
     "name": "stdout",
     "output_type": "stream",
     "text": [
      "Number of human samples after filtering: 2664\n"
     ]
    }
   ],
   "source": [
    "# Step 1: Keep samples with age and sex\n",
    "df_filtered = df_metadata.dropna(subset=['age', 'sex'])\n",
    "\n",
    "# Step 2: Keep only human samples\n",
    "human_keywords = ['human', 'Homo sapiens', 'blood', 'peripheral blood', 'PBMC', 'whole blood']\n",
    "mask_human = df_filtered['tissue'].str.contains('|'.join(human_keywords), case=False, na=False)\n",
    "df_filtered = df_filtered[mask_human]\n",
    "\n",
    "# Step 3 (optional): keep technical replicates from population study\n",
    "mask_population = ~df_filtered['dataset'].str.contains('technical replication', case=False, na=False) | df_filtered['dataset'].str.contains('population study', case=False, na=False)\n",
    "df_filtered = df_filtered[mask_population]\n",
    "\n",
    "# Step 4: Reset index\n",
    "df_filtered = df_filtered.reset_index(drop=True)\n",
    "\n",
    "# Step 5: Check number of samples\n",
    "print(f\"Number of human samples after filtering: {df_filtered.shape[0]}\")\n"
   ]
  },
  {
   "cell_type": "code",
   "execution_count": 159,
   "id": "178d0318-fdde-42c4-98ea-d5759688c800",
   "metadata": {},
   "outputs": [
    {
     "name": "stdout",
     "output_type": "stream",
     "text": [
      "count    2711.00\n",
      "mean       51.02\n",
      "std        10.09\n",
      "min        23.70\n",
      "25%        43.20\n",
      "50%        50.20\n",
      "75%        57.60\n",
      "max        75.00\n",
      "Name: age, dtype: float64\n"
     ]
    }
   ],
   "source": [
    "df_metadata['age'] = pd.to_numeric(df_metadata['age'], errors='coerce') # convert to numeric for further analysis\n",
    "print(df_metadata['age'].describe().round(2)) # Summary statistics and round to 2 digits"
   ]
  },
  {
   "cell_type": "code",
   "execution_count": 161,
   "id": "94ff8b0b-5f4e-487e-b797-0be80e5be9b6",
   "metadata": {},
   "outputs": [
    {
     "name": "stdout",
     "output_type": "stream",
     "text": [
      "Median age: 50.2\n",
      "Mode age: [35.1, 35.2]\n"
     ]
    }
   ],
   "source": [
    "print(\"Median age:\", df_metadata['age'].median()) # Calculate the median\n",
    "print(\"Mode age:\", df_metadata['age'].mode().to_list()) #Calculate a mode and store its a list"
   ]
  },
  {
   "cell_type": "code",
   "execution_count": 163,
   "id": "a8c86ad2-2d14-4c73-8e30-a5a994798cd4",
   "metadata": {},
   "outputs": [
    {
     "data": {
      "text/plain": [
       "dataset\n",
       "population study                                 2639\n",
       "technical replication study                        47\n",
       "population study; technical replication study      25\n",
       "Name: count, dtype: int64"
      ]
     },
     "metadata": {},
     "output_type": "display_data"
    }
   ],
   "source": [
    "display(df_metadata['dataset'].value_counts())"
   ]
  },
  {
   "cell_type": "markdown",
   "id": "9690e6c3-97b4-4a5a-aa2f-450d63efc3f9",
   "metadata": {},
   "source": [
    "Data visualization"
   ]
  },
  {
   "cell_type": "markdown",
   "id": "7b40d9ca-5796-4978-bb84-87b06cf83fec",
   "metadata": {},
   "source": [
    "The variable age is represented using a histogram, which displays the distribution of ages across all samples in the dataset."
   ]
  },
  {
   "cell_type": "code",
   "execution_count": 167,
   "id": "40bd032b-8556-445b-b506-c8e6f7c1be63",
   "metadata": {},
   "outputs": [
    {
     "data": {
      "image/png": "[encoded data removed]",
      "text/plain": [
       "<Figure size 850x600 with 1 Axes>"
      ]
     },
     "metadata": {},
     "output_type": "display_data"
    }
   ],
   "source": [
    "plt.figure(figsize=(8.5, 6))\n",
    "plt.hist(df_metadata['age'], bins=20, color='violet', edgecolor='black')\n",
    "plt.title('Distribution of Age in GSE55763')\n",
    "plt.xlabel('Age')\n",
    "plt.ylabel('Samples')\n",
    "plt.show()"
   ]
  },
  {
   "cell_type": "markdown",
   "id": "de9258d9-eeb2-432d-9826-020f8146f3db",
   "metadata": {},
   "source": [
    "An alternative way to visualize this variable is with a density plot, which shows the distribution and relative frequency of values across the dataset."
   ]
  },
  {
   "cell_type": "code",
   "execution_count": 170,
   "id": "ca824a75-a942-4d6f-8515-20af77904d31",
   "metadata": {},
   "outputs": [
    {
     "data": {
      "image/png": "[encoded data removed]",
      "text/plain": [
       "<Figure size 800x600 with 1 Axes>"
      ]
     },
     "metadata": {},
     "output_type": "display_data"
    }
   ],
   "source": [
    "plt.figure(figsize=(8,6))\n",
    "sns.kdeplot(df_metadata['age'], fill=True, color='violet')\n",
    "plt.title('Density Plot of Age')\n",
    "plt.xlabel('Age')\n",
    "plt.ylabel('Density')\n",
    "plt.show()"
   ]
  },
  {
   "cell_type": "code",
   "execution_count": 180,
   "id": "e31843bb-91b5-4a4b-b594-87572c05f268",
   "metadata": {},
   "outputs": [
    {
     "data": {
      "image/png": "[encoded data removed]",
      "text/plain": [
       "<Figure size 600x600 with 1 Axes>"
      ]
     },
     "metadata": {},
     "output_type": "display_data"
    }
   ],
   "source": [
    "plt.figure(figsize=(6,6))\n",
    "sns.boxplot(x='sex', y='age', hue='sex', data=df_filtered, palette='pastel', dodge=False, legend=False)\n",
    "plt.title(\"Age Distribution by Gender\")\n",
    "plt.xlabel(\"Gender\")\n",
    "plt.ylabel(\"Age\")\n",
    "plt.show()\n"
   ]
  },
  {
   "cell_type": "code",
   "execution_count": 184,
   "id": "c51998a8-0ccf-4f57-852e-1e93a3e813be",
   "metadata": {},
   "outputs": [
    {
     "data": {
      "text/html": [
       "<div>\n",
       "<style scoped>\n",
       "    .dataframe tbody tr th:only-of-type {\n",
       "        vertical-align: middle;\n",
       "    }\n",
       "\n",
       "    .dataframe tbody tr th {\n",
       "        vertical-align: top;\n",
       "    }\n",
       "\n",
       "    .dataframe thead th {\n",
       "        text-align: right;\n",
       "    }\n",
       "</style>\n",
       "<table border=\"1\" class=\"dataframe\">\n",
       "  <thead>\n",
       "    <tr style=\"text-align: right;\">\n",
       "      <th></th>\n",
       "      <th>Count</th>\n",
       "      <th>Percentage (%)</th>\n",
       "    </tr>\n",
       "    <tr>\n",
       "      <th>sex</th>\n",
       "      <th></th>\n",
       "      <th></th>\n",
       "    </tr>\n",
       "  </thead>\n",
       "  <tbody>\n",
       "    <tr>\n",
       "      <th>M</th>\n",
       "      <td>1805</td>\n",
       "      <td>67.8</td>\n",
       "    </tr>\n",
       "    <tr>\n",
       "      <th>F</th>\n",
       "      <td>859</td>\n",
       "      <td>32.2</td>\n",
       "    </tr>\n",
       "  </tbody>\n",
       "</table>\n",
       "</div>"
      ],
      "text/plain": [
       "     Count  Percentage (%)\n",
       "sex                       \n",
       "M     1805            67.8\n",
       "F      859            32.2"
      ]
     },
     "metadata": {},
     "output_type": "display_data"
    }
   ],
   "source": [
    "gender_table = pd.DataFrame({\n",
    "    'Count': df_filtered['sex'].value_counts(),\n",
    "    'Percentage (%)': (df_filtered['sex'].value_counts(normalize=True) * 100).round(1)\n",
    "})\n",
    "\n",
    "display(gender_table)\n"
   ]
  },
  {
   "cell_type": "markdown",
   "id": "68ed39ef-7416-4342-84a5-317d34a0a1ad",
   "metadata": {},
   "source": [
    "For the variable gender, which is categorical, the distribution is visualized using a bar plot."
   ]
  },
  {
   "cell_type": "markdown",
   "id": "1242a85d-b3e8-4155-93b3-1c95038b0db2",
   "metadata": {},
   "source": [
    "Verification of Gender as a Categorical Variable"
   ]
  },
  {
   "cell_type": "code",
   "execution_count": 186,
   "id": "db189ed4-8c77-4599-95f4-b0d92ab9fa1d",
   "metadata": {},
   "outputs": [
    {
     "name": "stdout",
     "output_type": "stream",
     "text": [
      "['M' 'F']\n"
     ]
    }
   ],
   "source": [
    "print(df_metadata['sex'].unique())\n"
   ]
  },
  {
   "cell_type": "code",
   "execution_count": 204,
   "id": "2b5e5280-5cf3-4080-a84f-7f3a8b94659c",
   "metadata": {},
   "outputs": [
    {
     "data": {
      "image/png": "[encoded data removed]",
      "text/plain": [
       "<Figure size 500x400 with 1 Axes>"
      ]
     },
     "metadata": {},
     "output_type": "display_data"
    }
   ],
   "source": [
    "# Count the number of males and females\n",
    "gender_table = df_metadata['sex'].value_counts().reset_index()\n",
    "gender_table.columns = ['Sex', 'Count']\n",
    "\n",
    "# Plot\n",
    "plt.figure(figsize=(5,4))\n",
    "plt.bar(gender_table['Sex'], gender_table['Count'], color=['blue', 'green'])\n",
    "plt.title(\"Distribution of Sex in GSE55763\")\n",
    "plt.xlabel(\"Sex\")\n",
    "plt.ylabel(\"Count\")\n",
    "plt.show()"
   ]
  },
  {
   "cell_type": "markdown",
   "id": "d674e713-5f02-40af-a47a-aa77e49cf518",
   "metadata": {},
   "source": [
    "Outlier analysis is performed on the age variable to identify extreme values that could influence downstream analyses. Outliers are defined using the interquartile range (IQR) method, where values below Q1 − 1.5×IQR or above Q3 + 1.5×IQR are considered outliers"
   ]
  },
  {
   "cell_type": "code",
   "execution_count": 191,
   "id": "1cbf6878-c9f3-4eaf-aaa4-502b4abf63a3",
   "metadata": {},
   "outputs": [
    {
     "name": "stdout",
     "output_type": "stream",
     "text": [
      "Lower bound: 21.60, Upper bound: 79.20\n",
      "Outliers: []\n"
     ]
    }
   ],
   "source": [
    "age = df_metadata['age'].dropna()  # ignore missing values\n",
    "\n",
    "Q1 = np.percentile(age, 25)\n",
    "Q3 = np.percentile(age, 75)\n",
    "IQR = Q3 - Q1\n",
    "\n",
    "lower = Q1 - 1.5 * IQR\n",
    "upper = Q3 + 1.5 * IQR\n",
    "\n",
    "outliers = age[(age < lower) | (age > upper)]\n",
    "\n",
    "print(f\"Lower bound: {lower:.2f}, Upper bound: {upper:.2f}\")\n",
    "print(\"Outliers:\", outliers.values)"
   ]
  },
  {
   "cell_type": "markdown",
   "id": "b5b4b3f4-7ee8-4dde-906f-abc1045fd550",
   "metadata": {},
   "source": [
    "Extract beta-values"
   ]
  },
  {
   "cell_type": "markdown",
   "id": "2a203312-8022-4c1f-936f-913a5c3945c6",
   "metadata": {},
   "source": [
    "Cohort summary table"
   ]
  },
  {
   "cell_type": "code",
   "execution_count": 200,
   "id": "7591c586-bb8e-4a6e-91cd-c3c35a38355f",
   "metadata": {},
   "outputs": [
    {
     "data": {
      "text/html": [
       "<div>\n",
       "<style scoped>\n",
       "    .dataframe tbody tr th:only-of-type {\n",
       "        vertical-align: middle;\n",
       "    }\n",
       "\n",
       "    .dataframe tbody tr th {\n",
       "        vertical-align: top;\n",
       "    }\n",
       "\n",
       "    .dataframe thead th {\n",
       "        text-align: right;\n",
       "    }\n",
       "</style>\n",
       "<table border=\"1\" class=\"dataframe\">\n",
       "  <thead>\n",
       "    <tr style=\"text-align: right;\">\n",
       "      <th></th>\n",
       "      <th>Total Samples</th>\n",
       "      <th>Mean Age</th>\n",
       "      <th>Median Age</th>\n",
       "      <th>Min Age</th>\n",
       "      <th>Max Age</th>\n",
       "      <th>Male Count</th>\n",
       "      <th>Female Count</th>\n",
       "    </tr>\n",
       "  </thead>\n",
       "  <tbody>\n",
       "    <tr>\n",
       "      <th>0</th>\n",
       "      <td>2664</td>\n",
       "      <td>50.95</td>\n",
       "      <td>50.1</td>\n",
       "      <td>23.7</td>\n",
       "      <td>75.0</td>\n",
       "      <td>1805</td>\n",
       "      <td>859</td>\n",
       "    </tr>\n",
       "  </tbody>\n",
       "</table>\n",
       "</div>"
      ],
      "text/plain": [
       "   Total Samples  Mean Age  Median Age  Min Age  Max Age  Male Count  \\\n",
       "0           2664     50.95        50.1     23.7     75.0        1805   \n",
       "\n",
       "   Female Count  \n",
       "0           859  "
      ]
     },
     "execution_count": 200,
     "metadata": {},
     "output_type": "execute_result"
    }
   ],
   "source": [
    "cohort_summary = pd.DataFrame({\n",
    "    \"Total Samples\": [len(df_filtered)],\n",
    "    \"Mean Age\": [df_filtered[\"age\"].mean().round(2)],\n",
    "    \"Median Age\": [df_filtered[\"age\"].median()],\n",
    "    \"Min Age\": [df_filtered[\"age\"].min()],\n",
    "    \"Max Age\": [df_filtered[\"age\"].max()],\n",
    "    \"Male Count\": [sum(df_filtered[\"sex\"] == \"M\")],\n",
    "    \"Female Count\": [sum(df_filtered[\"sex\"] == \"F\")]\n",
    "})\n",
    "\n",
    "cohort_summary\n",
    "\n"
   ]
  }
 ],
 "metadata": {
  "kernelspec": {
   "display_name": "Python 3 (ipykernel)",
   "language": "python",
   "name": "python3"
  },
  "language_info": {
   "codemirror_mode": {
    "name": "ipython",
    "version": 3
   },
   "file_extension": ".py",
   "mimetype": "text/x-python",
   "name": "python",
   "nbconvert_exporter": "python",
   "pygments_lexer": "ipython3",
   "version": "3.12.3"
  }
 },
 "nbformat": 4,
 "nbformat_minor": 5
}
